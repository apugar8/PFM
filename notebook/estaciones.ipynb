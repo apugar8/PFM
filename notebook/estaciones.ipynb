{
 "cells": [
  {
   "cell_type": "code",
   "execution_count": 1,
   "metadata": {},
   "outputs": [
    {
     "name": "stdout",
     "output_type": "stream",
     "text": [
      "Iniciando actualización...\n",
      "Actualización completada\n"
     ]
    }
   ],
   "source": [
    "import random\n",
    "from arcgis.gis import GIS\n",
    "from arcgis.features import FeatureLayer\n",
    "from datetime import datetime\n",
    "\n",
    "gis = GIS(\"https://esmastergis.maps.arcgis.com/home/index.html\", \"apuigcerver.mg\", \"Sequier.8\")\n",
    "\n",
    "sub_feature_layer = FeatureLayer(\"https://services5.arcgis.com/zZdalPw2d0tQx8G1/arcgis/rest/services/Estaciones_meteo_y_historico_WFL1/FeatureServer/5\", gis)\n",
    "associated_table_layer = FeatureLayer(\"https://services5.arcgis.com/zZdalPw2d0tQx8G1/arcgis/rest/services/Estaciones_meteo_y_historico_WFL1/FeatureServer/3\", gis)\n",
    "\n",
    "def update_features_and_associated_table():\n",
    "    print(\"Iniciando actualización...\")  \n",
    "\n",
    "    # Obtén los datos de la capa de características\n",
    "    features = sub_feature_layer.query(where='1=1')\n",
    "\n",
    "    # Actualiza las características\n",
    "    updated_features = []\n",
    "    for feature in features:\n",
    "        feature.attributes['Temp_min'] = random.randint(4, 12)\n",
    "        feature.attributes['Temp_max'] = random.randint(15, 30)\n",
    "        feature.attributes['Precipitacion'] = random.randint(0, 60)\n",
    "        feature.attributes['Viento'] = random.randint(0, 50)\n",
    "        updated_features.append(feature)\n",
    "\n",
    "    # Aplica las actualizaciones a la capa de características\n",
    "    sub_feature_layer.edit_features(updates=updated_features)\n",
    "\n",
    "    # Ahora actualizamos la tabla asociada\n",
    "    for feature in updated_features:\n",
    "        parcela_id = feature.attributes['ID_Parcela']\n",
    "        associated_table_row = associated_table_layer.query(where=f\"ID_Parcela = {parcela_id}\").features[0]\n",
    "        associated_table_row.attributes['Fecha'] = datetime.now().isoformat()\n",
    "        associated_table_row.attributes['Temp_min'] = feature.attributes['Temp_min']\n",
    "        associated_table_row.attributes['Temp_max'] = feature.attributes['Temp_max']\n",
    "        associated_table_row.attributes['Precipitacion'] = feature.attributes['Precipitacion']\n",
    "        associated_table_row.attributes['Viento'] = feature.attributes['Viento']\n",
    "        associated_table_layer.edit_features(updates=[associated_table_row])\n",
    "\n",
    "    print(\"Actualización completada\") \n",
    "\n",
    "# Ejecuta la función una vez inmediatamente\n",
    "update_features_and_associated_table()"
   ]
  }
 ],
 "metadata": {
  "kernelspec": {
   "display_name": "Python 3",
   "language": "python",
   "name": "python3"
  },
  "language_info": {
   "codemirror_mode": {
    "name": "ipython",
    "version": 3
   },
   "file_extension": ".py",
   "mimetype": "text/x-python",
   "name": "python",
   "nbconvert_exporter": "python",
   "pygments_lexer": "ipython3",
   "version": "3.9.18"
  }
 },
 "nbformat": 4,
 "nbformat_minor": 2
}
